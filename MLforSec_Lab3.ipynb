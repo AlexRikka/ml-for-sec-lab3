{
  "nbformat": 4,
  "nbformat_minor": 0,
  "metadata": {
    "colab": {
      "provenance": []
    },
    "kernelspec": {
      "name": "python3",
      "display_name": "Python 3"
    },
    "language_info": {
      "name": "python"
    }
  },
  "cells": [
    {
      "cell_type": "code",
      "execution_count": null,
      "metadata": {
        "id": "KecubiZBIUof"
      },
      "outputs": [],
      "source": [
        "!sudo apt-get install libmagickwand-dev\n",
        "!pip install --no-cache-dir \\\n",
        "    opencv-python-headless==4.6.*\\\n",
        "    rawpy==0.17.* \\\n",
        "    pandas \\\n",
        "    Pillow==7.1.2 \\\n",
        "    scikit-image==0.16.2 \\\n",
        "    scipy \\\n",
        "    tqdm \\\n",
        "    Wand"
      ]
    },
    {
      "cell_type": "code",
      "source": [
        "!git clone https://github.com/andreacos/BoostingCNN-Jpeg-Primary-Quantization-Matrix-Estimation"
      ],
      "metadata": {
        "id": "R6iK1XPTIW7N",
        "colab": {
          "base_uri": "https://localhost:8080/"
        },
        "outputId": "85784aef-3992-4a81-a213-e2c0d16b458a"
      },
      "execution_count": 3,
      "outputs": [
        {
          "output_type": "stream",
          "name": "stdout",
          "text": [
            "fatal: destination path 'BoostingCNN-Jpeg-Primary-Quantization-Matrix-Estimation' already exists and is not an empty directory.\n"
          ]
        }
      ]
    },
    {
      "cell_type": "markdown",
      "source": [
        "Scripts from repo:  \n",
        "dataset.py creates a training and test dataset of double JPEG compressed image patches for a given set of JPEG quality factor pairs (QF1, QF2).  \n",
        "redict_2terms.py to test the model, make sure to adapt the script to point to the right to-be-tested model file.  \n",
        "usage.py contains an example of how to test the provided pre-trained models on a single image.  \n",
        "utils.py functions for manage QF, labels, dct coeffs"
      ],
      "metadata": {
        "id": "eg_riIcXAIUf"
      }
    },
    {
      "cell_type": "code",
      "source": [
        "import io\n",
        "import os\n",
        "import sys\n",
        "import cv2\n",
        "import numpy as np\n",
        "from matplotlib import pyplot as plt\n",
        "import tensorflow as tf\n",
        "import pandas as pd\n",
        "from glob import glob\n",
        "from PIL import Image"
      ],
      "metadata": {
        "id": "uNwDigfiIXHE"
      },
      "execution_count": 4,
      "outputs": []
    },
    {
      "cell_type": "code",
      "source": [
        "sys.path.insert(1, \"BoostingCNN-Jpeg-Primary-Quantization-Matrix-Estimation\")"
      ],
      "metadata": {
        "id": "aAR0PpPmcAEx"
      },
      "execution_count": 5,
      "outputs": []
    },
    {
      "cell_type": "code",
      "source": [
        "# Импорт методов из репо BoostingCNN-Jpeg-Primary-Quantization-Matrix-Estimation\n",
        "from networks import custom_two_terms_loss_wrapper, custom_softmax_activation, custom_mse_wrapper\n",
        "from utils import max_min_coefficient, label2coefficient, string2Q"
      ],
      "metadata": {
        "id": "xfxNGlKNcDNJ"
      },
      "execution_count": 6,
      "outputs": []
    },
    {
      "cell_type": "code",
      "source": [
        "# Загрузка предобученной модели\n",
        "model_path = 'BoostingCNN-Jpeg-Primary-Quantization-Matrix-Estimation/models/model_QF1_60-98_QF2_90-2-term-loss.h5'\n",
        "# Max value for coefficients\n",
        "max_coeffs, _ = max_min_coefficient(quality_range=(50, 100),\n",
        "                                    n_coeffs=15,\n",
        "                                    zig_zag_order=True)\n",
        "\n",
        "model = tf.keras.models.load_model(model_path,\n",
        "                                    custom_objects=({'custom_softmax': custom_softmax_activation(max_coeffs),\n",
        "                                                    'custom_two_terms_loss_wrapper': custom_two_terms_loss_wrapper(max_coeffs, 0.8),\n",
        "                                                    'custom_mse': custom_mse_wrapper(max_coeffs)}))\n",
        "\n",
        "# Создание массива векторов ДКП-коээфициентов для соответсвующих QF\n",
        "# Load the table linking each pair of JPEG quality factors to the corresponding Q's coefficients\n",
        "qf_map = np.load('BoostingCNN-Jpeg-Primary-Quantization-Matrix-Estimation/resources/qf1_qf2_map_90.npy', allow_pickle=True)\n",
        "# Значения QF [:, [QF1, QF2]]\n",
        "QFs = qf_map[:,:2]\n",
        "# Массив векторов коэффициентов\n",
        "dct_coeffs = []\n",
        "for rec in qf_map:\n",
        "  #  Converts a comma separated string to vector of dct coeffs\n",
        "  dct_coeffs.append(string2Q(rec[2], size=(8, 8), flatten=True)[:15])\n",
        "dct_coeffs = np.array(dct_coeffs)"
      ],
      "metadata": {
        "colab": {
          "base_uri": "https://localhost:8080/"
        },
        "id": "xYnFuBh-cFBa",
        "outputId": "8153c056-c886-4473-8f26-060f08fade9a"
      },
      "execution_count": 7,
      "outputs": [
        {
          "output_type": "stream",
          "name": "stderr",
          "text": [
            "WARNING:tensorflow:No training configuration found in the save file, so the model was *not* compiled. Compile it manually.\n"
          ]
        }
      ]
    },
    {
      "cell_type": "code",
      "source": [
        "# Сжатие изображения\n",
        "# Принимает и возвращает картинку как numpy array\n",
        "def compress_image(img, qfs):\n",
        "  for qf in qfs:\n",
        "    # Compress image into buffer\n",
        "    jpeg_encoded = cv2.imencode('.jpg', img, [int(cv2.IMWRITE_JPEG_QUALITY), qf])[1]\n",
        "    # Back to numpy rgb image\n",
        "    jpeg_encoded_image = Image.open(io.BytesIO(jpeg_encoded))\n",
        "    img = np.array(jpeg_encoded_image)\n",
        "  return img\n",
        "\n",
        "# Расчёт weighted MSE\n",
        "def mse_weighted(pred, dct_coeffs):\n",
        "  evals = []\n",
        "  for vector in dct_coeffs:\n",
        "    weights = np.log(vector + 1)+1\n",
        "    diff = (pred - vector)**2\n",
        "    weighted_mse = np.sum(diff*weights) / (np.sum(weights)*len(weights))\n",
        "    evals.append(weighted_mse)\n",
        "  return np.argmin(evals)\n",
        "\n",
        "# Расчёт MSE\n",
        "def mse(pred, dct_coeffs):\n",
        "  evals = np.mean((dct_coeffs - pred) **2, axis=1)\n",
        "  return np.argmin(evals)\n",
        "\n",
        "# Подготовка изображения для теста from usage.py\n",
        "# Принимает и возвращает картинку как numpy array\n",
        "def preprocess_input(im, target_size, scale=255.):\n",
        "  if im.shape != target_size:\n",
        "    im = cv2.resize(im, target_size)\n",
        "\n",
        "  # Переводим картинку в цветовое пространство YCbCr\n",
        "  # Берем только канал Y (Luminance)\n",
        "  im = cv2.cvtColor(im, cv2.COLOR_BGR2YCrCb)[:,:,0]\n",
        "\n",
        "  # Нормализация\n",
        "  return im.astype(np.float32) / scale\n",
        "\n",
        "# Предсказание QF\n",
        "def make_prediction(input, dct_coeffs, max_coeffs):\n",
        "  prediction = model.predict(np.expand_dims(input, [0, -1]), verbose=0)\n",
        "  predicted_label = label2coefficient(prediction.flatten(), max_coefficients=max_coeffs)\n",
        "  \n",
        "  w_mse_idx = mse_weighted(predicted_label, dct_coeffs)\n",
        "  mse_idx = mse(predicted_label, dct_coeffs)\n",
        "  return QFs[w_mse_idx], QFs[mse_idx]"
      ],
      "metadata": {
        "id": "W8IZlVhBpxcm"
      },
      "execution_count": 9,
      "outputs": []
    },
    {
      "cell_type": "code",
      "source": [
        "# Проверка работы модели\n",
        "img = cv2.imread('/content/drive/MyDrive/Colab Notebooks/data/source_images/1.tif')\n",
        "tmp = compress_image(img, (60, 90))\n",
        "tmp = tmp[:64,:64]\n",
        "tmp = preprocess_input(tmp, (64, 64), 255.)\n",
        "prediction = model.predict(np.expand_dims(tmp, [0, -1]), verbose=0)\n",
        "predicted_label = label2coefficient(prediction.flatten(), max_coefficients=max_coeffs)\n",
        "print(\"Predicted label:\", predicted_label)\n",
        "\n",
        "w_mse_idx = mse_weighted(predicted_label, dct_coeffs)\n",
        "mse_idx = mse(predicted_label, dct_coeffs)\n",
        "print('QF if WMSE: ', QFs[w_mse_idx])\n",
        "print('QF if MSE:', QFs[mse_idx])\n",
        "#pred_w, pred = make_prediction(tmp, dct_coeffs, max_coeffs)"
      ],
      "metadata": {
        "colab": {
          "base_uri": "https://localhost:8080/"
        },
        "id": "ahAUE1vCgQZV",
        "outputId": "dacbbc52-1285-47f4-8284-9fb41b5d215b"
      },
      "execution_count": 14,
      "outputs": [
        {
          "output_type": "stream",
          "name": "stdout",
          "text": [
            "Predicted label: [12  9  9 11  9  8 12 11 10 11 14 13 12 15 19]\n",
            "QF if WMSE:  [61 90]\n",
            "QF if MSE: [61 90]\n"
          ]
        }
      ]
    },
    {
      "cell_type": "code",
      "source": [
        "# Программно сгенерировать 5 принципиально различных ситуаций: \n",
        "# однократное сжатие, 𝑄𝐹1 < 𝑄𝐹2, 𝑄𝐹1 ≪ 𝑄𝐹2, 𝑄𝐹1 > 𝑄𝐹2, 𝑄𝐹1 ≈ 𝑄𝐹2. \n",
        "experiment_qf = [\n",
        "    (60,90),\n",
        "    (85,90),\n",
        "    (89,90),\n",
        "    (90,90),\n",
        "    (98,90),\n",
        "]\n",
        "\n",
        "experiment_data = []\n",
        "img_path = '/content/drive/MyDrive/Colab Notebooks/data/source_images/'\n",
        "for e in experiment_qf:\n",
        "  for path in glob(img_path+'*.tif'):\n",
        "    img = cv2.imread(path)\n",
        "    tmp = compress_image(img, e)\n",
        "    tmp = tmp[:64,:64]\n",
        "    tmp = preprocess_input(tmp, (64, 64), 255.)\n",
        "    pred_w, pred = make_prediction(tmp, dct_coeffs, max_coeffs)\n",
        "    experiment_data.append([e[0], pred_w[0], np.abs(pred_w[0]-e[0]), pred[0], np.abs(pred[0]-e[0])])\n",
        "\n",
        "print('Experiment data sample: ', experiment_data[0])"
      ],
      "metadata": {
        "id": "_l7fIR_UvwHs",
        "colab": {
          "base_uri": "https://localhost:8080/"
        },
        "outputId": "05184097-4008-4c1d-d6d2-7502ef467535"
      },
      "execution_count": null,
      "outputs": [
        {
          "output_type": "stream",
          "name": "stdout",
          "text": [
            "Experiment data sample:  [60, 61, 1, 61, 1]\n"
          ]
        }
      ]
    },
    {
      "cell_type": "code",
      "source": [
        "res_df = pd.DataFrame(experiment_data, columns=['QF1', 'Prediction_WMSE', 'Error_WMSE', 'Prediction', 'Error'])\n",
        "res_m_df = res_df.groupby('QF1').mean()"
      ],
      "metadata": {
        "id": "lMFHrS5OvCZR"
      },
      "execution_count": null,
      "outputs": []
    },
    {
      "cell_type": "code",
      "source": [
        "res_df.head()"
      ],
      "metadata": {
        "colab": {
          "base_uri": "https://localhost:8080/",
          "height": 206
        },
        "id": "fZy3JOjwyTv7",
        "outputId": "890b52cd-5282-4d19-dabb-132399b1de62"
      },
      "execution_count": null,
      "outputs": [
        {
          "output_type": "execute_result",
          "data": {
            "text/plain": [
              "   QF1  Prediction_WMSE  Error_WMSE  Prediction  Error\n",
              "0   60               61           1          61      1\n",
              "1   60               62           2          62      2\n",
              "2   60               61           1          61      1\n",
              "3   60               63           3          63      3\n",
              "4   60               66           6          66      6"
            ],
            "text/html": [
              "\n",
              "  <div id=\"df-45326c66-cf52-4d3e-847a-73ca8b335f76\">\n",
              "    <div class=\"colab-df-container\">\n",
              "      <div>\n",
              "<style scoped>\n",
              "    .dataframe tbody tr th:only-of-type {\n",
              "        vertical-align: middle;\n",
              "    }\n",
              "\n",
              "    .dataframe tbody tr th {\n",
              "        vertical-align: top;\n",
              "    }\n",
              "\n",
              "    .dataframe thead th {\n",
              "        text-align: right;\n",
              "    }\n",
              "</style>\n",
              "<table border=\"1\" class=\"dataframe\">\n",
              "  <thead>\n",
              "    <tr style=\"text-align: right;\">\n",
              "      <th></th>\n",
              "      <th>QF1</th>\n",
              "      <th>Prediction_WMSE</th>\n",
              "      <th>Error_WMSE</th>\n",
              "      <th>Prediction</th>\n",
              "      <th>Error</th>\n",
              "    </tr>\n",
              "  </thead>\n",
              "  <tbody>\n",
              "    <tr>\n",
              "      <th>0</th>\n",
              "      <td>60</td>\n",
              "      <td>61</td>\n",
              "      <td>1</td>\n",
              "      <td>61</td>\n",
              "      <td>1</td>\n",
              "    </tr>\n",
              "    <tr>\n",
              "      <th>1</th>\n",
              "      <td>60</td>\n",
              "      <td>62</td>\n",
              "      <td>2</td>\n",
              "      <td>62</td>\n",
              "      <td>2</td>\n",
              "    </tr>\n",
              "    <tr>\n",
              "      <th>2</th>\n",
              "      <td>60</td>\n",
              "      <td>61</td>\n",
              "      <td>1</td>\n",
              "      <td>61</td>\n",
              "      <td>1</td>\n",
              "    </tr>\n",
              "    <tr>\n",
              "      <th>3</th>\n",
              "      <td>60</td>\n",
              "      <td>63</td>\n",
              "      <td>3</td>\n",
              "      <td>63</td>\n",
              "      <td>3</td>\n",
              "    </tr>\n",
              "    <tr>\n",
              "      <th>4</th>\n",
              "      <td>60</td>\n",
              "      <td>66</td>\n",
              "      <td>6</td>\n",
              "      <td>66</td>\n",
              "      <td>6</td>\n",
              "    </tr>\n",
              "  </tbody>\n",
              "</table>\n",
              "</div>\n",
              "      <button class=\"colab-df-convert\" onclick=\"convertToInteractive('df-45326c66-cf52-4d3e-847a-73ca8b335f76')\"\n",
              "              title=\"Convert this dataframe to an interactive table.\"\n",
              "              style=\"display:none;\">\n",
              "        \n",
              "  <svg xmlns=\"http://www.w3.org/2000/svg\" height=\"24px\"viewBox=\"0 0 24 24\"\n",
              "       width=\"24px\">\n",
              "    <path d=\"M0 0h24v24H0V0z\" fill=\"none\"/>\n",
              "    <path d=\"M18.56 5.44l.94 2.06.94-2.06 2.06-.94-2.06-.94-.94-2.06-.94 2.06-2.06.94zm-11 1L8.5 8.5l.94-2.06 2.06-.94-2.06-.94L8.5 2.5l-.94 2.06-2.06.94zm10 10l.94 2.06.94-2.06 2.06-.94-2.06-.94-.94-2.06-.94 2.06-2.06.94z\"/><path d=\"M17.41 7.96l-1.37-1.37c-.4-.4-.92-.59-1.43-.59-.52 0-1.04.2-1.43.59L10.3 9.45l-7.72 7.72c-.78.78-.78 2.05 0 2.83L4 21.41c.39.39.9.59 1.41.59.51 0 1.02-.2 1.41-.59l7.78-7.78 2.81-2.81c.8-.78.8-2.07 0-2.86zM5.41 20L4 18.59l7.72-7.72 1.47 1.35L5.41 20z\"/>\n",
              "  </svg>\n",
              "      </button>\n",
              "      \n",
              "  <style>\n",
              "    .colab-df-container {\n",
              "      display:flex;\n",
              "      flex-wrap:wrap;\n",
              "      gap: 12px;\n",
              "    }\n",
              "\n",
              "    .colab-df-convert {\n",
              "      background-color: #E8F0FE;\n",
              "      border: none;\n",
              "      border-radius: 50%;\n",
              "      cursor: pointer;\n",
              "      display: none;\n",
              "      fill: #1967D2;\n",
              "      height: 32px;\n",
              "      padding: 0 0 0 0;\n",
              "      width: 32px;\n",
              "    }\n",
              "\n",
              "    .colab-df-convert:hover {\n",
              "      background-color: #E2EBFA;\n",
              "      box-shadow: 0px 1px 2px rgba(60, 64, 67, 0.3), 0px 1px 3px 1px rgba(60, 64, 67, 0.15);\n",
              "      fill: #174EA6;\n",
              "    }\n",
              "\n",
              "    [theme=dark] .colab-df-convert {\n",
              "      background-color: #3B4455;\n",
              "      fill: #D2E3FC;\n",
              "    }\n",
              "\n",
              "    [theme=dark] .colab-df-convert:hover {\n",
              "      background-color: #434B5C;\n",
              "      box-shadow: 0px 1px 3px 1px rgba(0, 0, 0, 0.15);\n",
              "      filter: drop-shadow(0px 1px 2px rgba(0, 0, 0, 0.3));\n",
              "      fill: #FFFFFF;\n",
              "    }\n",
              "  </style>\n",
              "\n",
              "      <script>\n",
              "        const buttonEl =\n",
              "          document.querySelector('#df-45326c66-cf52-4d3e-847a-73ca8b335f76 button.colab-df-convert');\n",
              "        buttonEl.style.display =\n",
              "          google.colab.kernel.accessAllowed ? 'block' : 'none';\n",
              "\n",
              "        async function convertToInteractive(key) {\n",
              "          const element = document.querySelector('#df-45326c66-cf52-4d3e-847a-73ca8b335f76');\n",
              "          const dataTable =\n",
              "            await google.colab.kernel.invokeFunction('convertToInteractive',\n",
              "                                                     [key], {});\n",
              "          if (!dataTable) return;\n",
              "\n",
              "          const docLinkHtml = 'Like what you see? Visit the ' +\n",
              "            '<a target=\"_blank\" href=https://colab.research.google.com/notebooks/data_table.ipynb>data table notebook</a>'\n",
              "            + ' to learn more about interactive tables.';\n",
              "          element.innerHTML = '';\n",
              "          dataTable['output_type'] = 'display_data';\n",
              "          await google.colab.output.renderOutput(dataTable, element);\n",
              "          const docLink = document.createElement('div');\n",
              "          docLink.innerHTML = docLinkHtml;\n",
              "          element.appendChild(docLink);\n",
              "        }\n",
              "      </script>\n",
              "    </div>\n",
              "  </div>\n",
              "  "
            ]
          },
          "metadata": {},
          "execution_count": 149
        }
      ]
    },
    {
      "cell_type": "code",
      "source": [
        "res_m_df"
      ],
      "metadata": {
        "id": "M6lr_RhivCVP",
        "colab": {
          "base_uri": "https://localhost:8080/",
          "height": 237
        },
        "outputId": "3055b295-5db1-4e15-d527-cda3bb0255d7"
      },
      "execution_count": null,
      "outputs": [
        {
          "output_type": "execute_result",
          "data": {
            "text/plain": [
              "     Prediction_WMSE  Error_WMSE  Prediction     Error\n",
              "QF1                                                   \n",
              "60         62.500000    2.500000   62.500000  2.500000\n",
              "85         83.833333    1.166667   83.833333  1.166667\n",
              "89         92.750000    3.750000   92.750000  3.750000\n",
              "90         95.083333    5.083333   95.000000  5.000000\n",
              "98         95.666667    2.333333   95.583333  2.416667"
            ],
            "text/html": [
              "\n",
              "  <div id=\"df-9614a5d7-4cee-4f79-99fe-eca3d99d2c92\">\n",
              "    <div class=\"colab-df-container\">\n",
              "      <div>\n",
              "<style scoped>\n",
              "    .dataframe tbody tr th:only-of-type {\n",
              "        vertical-align: middle;\n",
              "    }\n",
              "\n",
              "    .dataframe tbody tr th {\n",
              "        vertical-align: top;\n",
              "    }\n",
              "\n",
              "    .dataframe thead th {\n",
              "        text-align: right;\n",
              "    }\n",
              "</style>\n",
              "<table border=\"1\" class=\"dataframe\">\n",
              "  <thead>\n",
              "    <tr style=\"text-align: right;\">\n",
              "      <th></th>\n",
              "      <th>Prediction_WMSE</th>\n",
              "      <th>Error_WMSE</th>\n",
              "      <th>Prediction</th>\n",
              "      <th>Error</th>\n",
              "    </tr>\n",
              "    <tr>\n",
              "      <th>QF1</th>\n",
              "      <th></th>\n",
              "      <th></th>\n",
              "      <th></th>\n",
              "      <th></th>\n",
              "    </tr>\n",
              "  </thead>\n",
              "  <tbody>\n",
              "    <tr>\n",
              "      <th>60</th>\n",
              "      <td>62.500000</td>\n",
              "      <td>2.500000</td>\n",
              "      <td>62.500000</td>\n",
              "      <td>2.500000</td>\n",
              "    </tr>\n",
              "    <tr>\n",
              "      <th>85</th>\n",
              "      <td>83.833333</td>\n",
              "      <td>1.166667</td>\n",
              "      <td>83.833333</td>\n",
              "      <td>1.166667</td>\n",
              "    </tr>\n",
              "    <tr>\n",
              "      <th>89</th>\n",
              "      <td>92.750000</td>\n",
              "      <td>3.750000</td>\n",
              "      <td>92.750000</td>\n",
              "      <td>3.750000</td>\n",
              "    </tr>\n",
              "    <tr>\n",
              "      <th>90</th>\n",
              "      <td>95.083333</td>\n",
              "      <td>5.083333</td>\n",
              "      <td>95.000000</td>\n",
              "      <td>5.000000</td>\n",
              "    </tr>\n",
              "    <tr>\n",
              "      <th>98</th>\n",
              "      <td>95.666667</td>\n",
              "      <td>2.333333</td>\n",
              "      <td>95.583333</td>\n",
              "      <td>2.416667</td>\n",
              "    </tr>\n",
              "  </tbody>\n",
              "</table>\n",
              "</div>\n",
              "      <button class=\"colab-df-convert\" onclick=\"convertToInteractive('df-9614a5d7-4cee-4f79-99fe-eca3d99d2c92')\"\n",
              "              title=\"Convert this dataframe to an interactive table.\"\n",
              "              style=\"display:none;\">\n",
              "        \n",
              "  <svg xmlns=\"http://www.w3.org/2000/svg\" height=\"24px\"viewBox=\"0 0 24 24\"\n",
              "       width=\"24px\">\n",
              "    <path d=\"M0 0h24v24H0V0z\" fill=\"none\"/>\n",
              "    <path d=\"M18.56 5.44l.94 2.06.94-2.06 2.06-.94-2.06-.94-.94-2.06-.94 2.06-2.06.94zm-11 1L8.5 8.5l.94-2.06 2.06-.94-2.06-.94L8.5 2.5l-.94 2.06-2.06.94zm10 10l.94 2.06.94-2.06 2.06-.94-2.06-.94-.94-2.06-.94 2.06-2.06.94z\"/><path d=\"M17.41 7.96l-1.37-1.37c-.4-.4-.92-.59-1.43-.59-.52 0-1.04.2-1.43.59L10.3 9.45l-7.72 7.72c-.78.78-.78 2.05 0 2.83L4 21.41c.39.39.9.59 1.41.59.51 0 1.02-.2 1.41-.59l7.78-7.78 2.81-2.81c.8-.78.8-2.07 0-2.86zM5.41 20L4 18.59l7.72-7.72 1.47 1.35L5.41 20z\"/>\n",
              "  </svg>\n",
              "      </button>\n",
              "      \n",
              "  <style>\n",
              "    .colab-df-container {\n",
              "      display:flex;\n",
              "      flex-wrap:wrap;\n",
              "      gap: 12px;\n",
              "    }\n",
              "\n",
              "    .colab-df-convert {\n",
              "      background-color: #E8F0FE;\n",
              "      border: none;\n",
              "      border-radius: 50%;\n",
              "      cursor: pointer;\n",
              "      display: none;\n",
              "      fill: #1967D2;\n",
              "      height: 32px;\n",
              "      padding: 0 0 0 0;\n",
              "      width: 32px;\n",
              "    }\n",
              "\n",
              "    .colab-df-convert:hover {\n",
              "      background-color: #E2EBFA;\n",
              "      box-shadow: 0px 1px 2px rgba(60, 64, 67, 0.3), 0px 1px 3px 1px rgba(60, 64, 67, 0.15);\n",
              "      fill: #174EA6;\n",
              "    }\n",
              "\n",
              "    [theme=dark] .colab-df-convert {\n",
              "      background-color: #3B4455;\n",
              "      fill: #D2E3FC;\n",
              "    }\n",
              "\n",
              "    [theme=dark] .colab-df-convert:hover {\n",
              "      background-color: #434B5C;\n",
              "      box-shadow: 0px 1px 3px 1px rgba(0, 0, 0, 0.15);\n",
              "      filter: drop-shadow(0px 1px 2px rgba(0, 0, 0, 0.3));\n",
              "      fill: #FFFFFF;\n",
              "    }\n",
              "  </style>\n",
              "\n",
              "      <script>\n",
              "        const buttonEl =\n",
              "          document.querySelector('#df-9614a5d7-4cee-4f79-99fe-eca3d99d2c92 button.colab-df-convert');\n",
              "        buttonEl.style.display =\n",
              "          google.colab.kernel.accessAllowed ? 'block' : 'none';\n",
              "\n",
              "        async function convertToInteractive(key) {\n",
              "          const element = document.querySelector('#df-9614a5d7-4cee-4f79-99fe-eca3d99d2c92');\n",
              "          const dataTable =\n",
              "            await google.colab.kernel.invokeFunction('convertToInteractive',\n",
              "                                                     [key], {});\n",
              "          if (!dataTable) return;\n",
              "\n",
              "          const docLinkHtml = 'Like what you see? Visit the ' +\n",
              "            '<a target=\"_blank\" href=https://colab.research.google.com/notebooks/data_table.ipynb>data table notebook</a>'\n",
              "            + ' to learn more about interactive tables.';\n",
              "          element.innerHTML = '';\n",
              "          dataTable['output_type'] = 'display_data';\n",
              "          await google.colab.output.renderOutput(dataTable, element);\n",
              "          const docLink = document.createElement('div');\n",
              "          docLink.innerHTML = docLinkHtml;\n",
              "          element.appendChild(docLink);\n",
              "        }\n",
              "      </script>\n",
              "    </div>\n",
              "  </div>\n",
              "  "
            ]
          },
          "metadata": {},
          "execution_count": 150
        }
      ]
    }
  ]
}